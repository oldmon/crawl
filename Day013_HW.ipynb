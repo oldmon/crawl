{
 "cells": [
  {
   "cell_type": "markdown",
   "metadata": {},
   "source": [
    "# PTT 網路爬蟲實作練習\n",
    "\n",
    "\n",
    "* 能夠利用 Request + BeatifulSour 撰寫爬蟲，並存放到合適的資料結構\n"
   ]
  },
  {
   "cell_type": "markdown",
   "metadata": {},
   "source": [
    "## 作業目標\n",
    "\n",
    "根據範例 ，完成以下問題：\n",
    "\n",
    "* ① 印出最新文章的「作者」「標題」「時間」\n",
    "* ② 印出第一頁所有文章的「作者」「標題」「時間」\n"
   ]
  },
  {
   "cell_type": "markdown",
   "metadata": {},
   "source": [
    "### ① 印出最新文章的「作者」「標題」「時間」"
   ]
  },
  {
   "cell_type": "code",
   "execution_count": 1,
   "metadata": {},
   "outputs": [
    {
     "name": "stdout",
     "output_type": "stream",
     "text": [
      "作者:Acetoxy\t標題:[情報] James轉發Kuzma為其佩戴皇冠畫面：你個傻\t時間: 3/09\n"
     ]
    }
   ],
   "source": [
    "import requests\n",
    "from bs4 import BeautifulSoup\n",
    "\n",
    "url = 'https://www.ptt.cc/bbs/NBA/index.html'\n",
    "r = requests.get(url)\n",
    "\n",
    "soup = BeautifulSoup(r.text, \"html5lib\")\n",
    "\n",
    "latest=soup.find(class_='r-list-sep').previous_sibling.previous_sibling\n",
    "print('作者:'+latest.find(class_='author').text.replace('\\t', '').replace('\\n', '')+\n",
    "          '\\t標題:'+latest.find(class_='title').text.replace('\\t', '').replace('\\n', '')+\n",
    "          '\\t時間:'+latest.find(class_='date').text.replace('\\t', '').replace('\\n', ''))"
   ]
  },
  {
   "cell_type": "markdown",
   "metadata": {},
   "source": [
    "### ② 印出第一頁所有文章的「作者」「標題」「時間」"
   ]
  },
  {
   "cell_type": "code",
   "execution_count": 2,
   "metadata": {},
   "outputs": [
    {
     "name": "stdout",
     "output_type": "stream",
     "text": [
      "作者:PttGod\t標題:[情報] 蘭德爾：羅賓遜不用擔心技犯，我會幫他付\t時間: 3/09\n",
      "作者:Ginpunch\t標題:Re: [情報] SNY記者：一些籃網老將質疑阿特金森能否\t時間: 3/09\n",
      "作者:go190214\t標題:[新聞] 重建有功仍再見 波總幫說話\t時間: 3/09\n",
      "作者:PttGod\t標題:[花邊] 憤怒的獅王！詹姆斯發怒吼慶祝照自比雄獅\t時間: 3/09\n",
      "作者:timmyen\t標題:Re: [討論] LBJ現今擁有的成就已經能超過賈霸了嗎\t時間: 3/09\n",
      "作者:asdf1256\t標題:[新聞] 懊悔年少不懂理財！退役NBA巨星韋德脫手\t時間: 3/09\n",
      "作者:vogue38\t標題:Re: [討論] Curry是不是現今有成就也不被認可的球員?\t時間: 3/09\n",
      "作者:sezna\t標題:[情報] Shams:KD和KI下季不想在阿金執教下打球\t時間: 3/09\n",
      "作者:Acetoxy\t標題:[情報] James轉發Kuzma為其佩戴皇冠畫面：你個傻\t時間: 3/09\n",
      "作者:Vedan\t標題:[公告] 板規v6.8\t時間: 5/24\n",
      "作者:qazwsx879345\t標題:[公告] 版主上任相關事項 \t時間:10/25\n",
      "作者:Acetoxy\t標題:[情報] SEASON Schedule 賽程 March 19–20\t時間: 3/02\n",
      "作者:Vedan\t標題:Fw: [公告] 即日起開放 NTU 信箱註冊帳號\t時間: 3/04\n",
      "作者:Vedan\t標題:[公告] 第一次被退文，可在三天後刪除退文\t時間: 3/09\n"
     ]
    }
   ],
   "source": [
    "for d in soup.find_all(class_=\"r-ent\"):\n",
    "    print('作者:'+d.find(class_='author').text.replace('\\t', '').replace('\\n', '')+\n",
    "          '\\t標題:'+d.find(class_='title').text.replace('\\t', '').replace('\\n', '')+\n",
    "          '\\t時間:'+d.find(class_='date').text.replace('\\t', '').replace('\\n', ''))"
   ]
  },
  {
   "cell_type": "markdown",
   "metadata": {},
   "source": [
    "### ③ 試著爬爬看其他版的文章"
   ]
  },
  {
   "cell_type": "code",
   "execution_count": 3,
   "metadata": {},
   "outputs": [
    {
     "name": "stdout",
     "output_type": "stream",
     "text": [
      "作者:-\t標題:(本文已被刪除) [LinBaoYan]\t時間: 3/09\n",
      "作者:jason613811\t標題:[其他] 3月9日 三大法人買賣超佔發行量\t時間: 3/09\n",
      "作者:yipi1357\t標題:[其他] 川普推特\t時間: 3/09\n",
      "作者:coober\t標題:Re: [新聞] 美股一開盤即暴跌逾1,800點 啟動熔斷機-\t時間: 3/09\n",
      "作者:c0922949774\t標題:[請益] 關於武漢肺炎死亡率的疑問\t時間: 3/09\n",
      "作者:komica\t標題:[閒聊] 算了！這種股市不看也罷！\t時間: 3/09\n",
      "作者:epson5566\t標題:[心得] 針對美國公債的一些看法\t時間: 3/09\n",
      "作者:max78429\t標題:[心得]  老美加油\t時間: 3/09\n",
      "作者:dodobaho\t標題:Re: [標的] 00672L原油的散戶心聲\t時間: 3/09\n",
      "作者:Axwell\t標題:[其他] 川普 FB\t時間: 3/09\n",
      "作者:jt910203\t標題:Re: [心得] 畢業文 從此不買石油股\t時間: 3/09\n",
      "作者:IanLi\t標題:[公告] 精華區導覽Q&A\t時間: 1/25\n",
      "作者:eyespot\t標題:[公告] Stock 板規V2.6             (2019/06/20)\t時間:11/03\n",
      "作者:noldorelf\t標題:[公告] 關於武漢肺炎新聞規範\t時間: 1/25\n",
      "作者:vendan5566\t標題:[閒聊] 2020/03/09 盤後閒聊\t時間: 3/09\n"
     ]
    }
   ],
   "source": [
    "soup = BeautifulSoup(requests.get('https://www.ptt.cc/bbs/Stock/index.html').text, \"html5lib\")\n",
    "for d in soup.find_all(class_=\"r-ent\"):\n",
    "    print('作者:'+d.find(class_='author').text.replace('\\t', '').replace('\\n', '')+\n",
    "          '\\t標題:'+d.find(class_='title').text.replace('\\t', '').replace('\\n', '')+\n",
    "          '\\t時間:'+d.find(class_='date').text.replace('\\t', '').replace('\\n', ''))"
   ]
  }
 ],
 "metadata": {
  "kernelspec": {
   "display_name": "Python 3",
   "language": "python",
   "name": "python3"
  },
  "language_info": {
   "codemirror_mode": {
    "name": "ipython",
    "version": 3
   },
   "file_extension": ".py",
   "mimetype": "text/x-python",
   "name": "python",
   "nbconvert_exporter": "python",
   "pygments_lexer": "ipython3",
   "version": "3.7.6"
  }
 },
 "nbformat": 4,
 "nbformat_minor": 2
}
