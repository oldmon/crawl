{
 "cells": [
  {
   "cell_type": "markdown",
   "metadata": {},
   "source": [
    "# 空氣污染監測網 網路爬蟲實作練習\n",
    "\n",
    "\n",
    "* 能夠利用 selenium + BeautifulSoup 撰寫爬蟲，並存放到合適的資料結構\n"
   ]
  },
  {
   "cell_type": "markdown",
   "metadata": {},
   "source": [
    "## 作業目標\n",
    "\n",
    "根據範例 ，完成以下問題：\n",
    "\n",
    "* ① 取出 台北市士林區 2018/01 – 2018/08 的 SO2 資料\n",
    "* ② 取出 台北市士林區 2018/01 – 2018/08 的 SO2、CO 資料\n",
    "\n",
    "\n",
    "\n"
   ]
  },
  {
   "cell_type": "code",
   "execution_count": 5,
   "metadata": {},
   "outputs": [],
   "source": [
    "import time\n",
    "from selenium import webdriver\n",
    "from selenium.webdriver.support.ui import Select\n",
    "from bs4 import BeautifulSoup\n",
    "browser = webdriver.Firefox()\n",
    "browser.get(\"http://taqm.epa.gov.tw/taqm/tw/MonthlyAverage.aspx\")\n",
    "selectSite = Select(browser.find_element_by_id(\"ctl05_ddlSite\"))\n",
    "selectSite.select_by_value('11')\n",
    "selectYear = Select(browser.find_element_by_id(\"ctl05_ddlYear\"))\n",
    "selectYear.select_by_value('2018')\n",
    "browser.find_element_by_id('ctl05_btnQuery').click()\n",
    "time.sleep(3)\n",
    "html_source = browser.page_source\n",
    "browser.close()\n",
    "soup = BeautifulSoup(html_source, 'html.parser')\n",
    "table = soup.find('table', class_='TABLE_G')"
   ]
  },
  {
   "cell_type": "markdown",
   "metadata": {},
   "source": [
    "### ① 取出 台北市士林區 2018/01 – 2018/08 的 SO2 資料"
   ]
  },
  {
   "cell_type": "code",
   "execution_count": 24,
   "metadata": {},
   "outputs": [
    {
     "name": "stdout",
     "output_type": "stream",
     "text": [
      "['1.80', '1.90', '2.20', '2.30', '3.10', '2.70', '2.20', '2.40']\n"
     ]
    }
   ],
   "source": [
    "values=[]\n",
    "i=0\n",
    "for tr in table.find_all('tr'):\n",
    "    if i==0:\n",
    "        i=1\n",
    "        continue\n",
    "    elif tr.findAll('td')[0].getText()=='SO2':\n",
    "        if i%8==1:\n",
    "            val=tr.findAll('td')[3].getText()\n",
    "            i+=1\n",
    "    elif i>8:\n",
    "        break\n",
    "    else:\n",
    "        val=tr.findAll('td')[1].getText()\n",
    "        i+=1\n",
    "    values.append(val)\n",
    "print(values)"
   ]
  },
  {
   "cell_type": "markdown",
   "metadata": {},
   "source": [
    "### ② 取出 台北市士林區 2018/01 – 2018/08 的 SO2、CO 資料"
   ]
  },
  {
   "cell_type": "code",
   "execution_count": 36,
   "metadata": {},
   "outputs": [
    {
     "name": "stdout",
     "output_type": "stream",
     "text": [
      "<td class=\"no-alt\" rowspan=\"12\" style=\"white-space:nowrap;\" valign=\"top\">SO2</td>\n",
      "0.34\n"
     ]
    },
    {
     "ename": "IndexError",
     "evalue": "list index out of range",
     "output_type": "error",
     "traceback": [
      "\u001b[1;31m---------------------------------------------------------------------------\u001b[0m",
      "\u001b[1;31mIndexError\u001b[0m                                Traceback (most recent call last)",
      "\u001b[1;32m<ipython-input-36-5653c6291152>\u001b[0m in \u001b[0;36m<module>\u001b[1;34m\u001b[0m\n\u001b[0;32m      8\u001b[0m         \u001b[0mi\u001b[0m\u001b[1;33m=\u001b[0m\u001b[1;36m1\u001b[0m\u001b[1;33m\u001b[0m\u001b[1;33m\u001b[0m\u001b[0m\n\u001b[0;32m      9\u001b[0m     \u001b[1;32melif\u001b[0m \u001b[0mi\u001b[0m\u001b[1;33m%\u001b[0m\u001b[1;36m8\u001b[0m\u001b[1;33m==\u001b[0m\u001b[1;36m1\u001b[0m\u001b[1;33m:\u001b[0m\u001b[1;33m\u001b[0m\u001b[1;33m\u001b[0m\u001b[0m\n\u001b[1;32m---> 10\u001b[1;33m         \u001b[0mval\u001b[0m\u001b[1;33m=\u001b[0m\u001b[0mtr\u001b[0m\u001b[1;33m.\u001b[0m\u001b[0mfindAll\u001b[0m\u001b[1;33m(\u001b[0m\u001b[1;34m'td'\u001b[0m\u001b[1;33m)\u001b[0m\u001b[1;33m[\u001b[0m\u001b[1;36m3\u001b[0m\u001b[1;33m]\u001b[0m\u001b[1;33m.\u001b[0m\u001b[0mgetText\u001b[0m\u001b[1;33m(\u001b[0m\u001b[1;33m)\u001b[0m\u001b[1;33m\u001b[0m\u001b[1;33m\u001b[0m\u001b[0m\n\u001b[0m\u001b[0;32m     11\u001b[0m         \u001b[0mi\u001b[0m\u001b[1;33m+=\u001b[0m\u001b[1;36m1\u001b[0m\u001b[1;33m\u001b[0m\u001b[1;33m\u001b[0m\u001b[0m\n\u001b[0;32m     12\u001b[0m     \u001b[1;32melse\u001b[0m\u001b[1;33m:\u001b[0m\u001b[1;33m\u001b[0m\u001b[1;33m\u001b[0m\u001b[0m\n",
      "\u001b[1;31mIndexError\u001b[0m: list index out of range"
     ]
    }
   ],
   "source": [
    "values=[]\n",
    "i=0\n",
    "for tr in table.find_all('tr'):\n",
    "    if i==0:\n",
    "        i=1\n",
    "        continue\n",
    "    elif tr.findAll('td')[0].getText() in['SO2','CO']:\n",
    "        i=1\n",
    "    elif i%8==1:\n",
    "        val=tr.findAll('td')[3].getText()\n",
    "        i+=1\n",
    "    else:\n",
    "        val=tr.findAll('td')[1].getText()\n",
    "        i+=1\n",
    "    print(tr.findAll('td')[0])\n",
    "    print(val)\n",
    "    values.append(val)"
   ]
  },
  {
   "cell_type": "code",
   "execution_count": 34,
   "metadata": {},
   "outputs": [
    {
     "data": {
      "text/plain": [
       "['1.80', '0.34']"
      ]
     },
     "execution_count": 34,
     "metadata": {},
     "output_type": "execute_result"
    }
   ],
   "source": [
    "values"
   ]
  },
  {
   "cell_type": "code",
   "execution_count": 6,
   "metadata": {},
   "outputs": [
    {
     "data": {
      "text/plain": [
       "<table align=\"Center\" border=\"1\" cellpadding=\"3\" cellspacing=\"0\" class=\"TABLE_G\" id=\"ctl05_gv\" rules=\"all\" style=\"border-color:Black;border-width:1px;border-style:None;border-collapse:collapse;\">\n",
       "<tbody><tr style=\"color:Black;font-weight:normal;\">\n",
       "<th scope=\"col\">監測項目</th><th scope=\"col\">單位</th><th scope=\"col\">監測日期</th><th scope=\"col\">監測值</th><th scope=\"col\">標註</th>\n",
       "</tr><tr style=\"color:Black;\">\n",
       "<td class=\"no-alt\" rowspan=\"12\" style=\"white-space:nowrap;\" valign=\"top\">SO2</td><td class=\"no-alt\" rowspan=\"12\" valign=\"top\">ppb</td><td>2018/01</td><td>1.80</td><td> </td>\n",
       "</tr><tr class=\"ALT\" style=\"color:Black;\">\n",
       "<td>2018/02</td><td>1.90</td><td> </td>\n",
       "</tr><tr style=\"color:Black;\">\n",
       "<td>2018/03</td><td>2.20</td><td> </td>\n",
       "</tr><tr class=\"ALT\" style=\"color:Black;\">\n",
       "<td>2018/04</td><td>2.30</td><td> </td>\n",
       "</tr><tr style=\"color:Black;\">\n",
       "<td>2018/05</td><td>3.10</td><td> </td>\n",
       "</tr><tr class=\"ALT\" style=\"color:Black;\">\n",
       "<td>2018/06</td><td>2.70</td><td> </td>\n",
       "</tr><tr style=\"color:Black;\">\n",
       "<td>2018/07</td><td>2.20</td><td> </td>\n",
       "</tr><tr class=\"ALT\" style=\"color:Black;\">\n",
       "<td>2018/08</td><td>2.40</td><td> </td>\n",
       "</tr><tr style=\"color:Black;\">\n",
       "<td>2018/09</td><td>2.10</td><td> </td>\n",
       "</tr><tr class=\"ALT\" style=\"color:Black;\">\n",
       "<td>2018/10</td><td>1.70</td><td> </td>\n",
       "</tr><tr style=\"color:Black;\">\n",
       "<td>2018/11</td><td>1.90</td><td> </td>\n",
       "</tr><tr class=\"ALT\" style=\"color:Black;\">\n",
       "<td>2018/12</td><td>1.80</td><td> </td>\n",
       "</tr><tr style=\"color:Black;\">\n",
       "<td class=\"no-alt\" rowspan=\"12\" style=\"white-space:nowrap;\" valign=\"top\">CO</td><td class=\"no-alt\" rowspan=\"12\" valign=\"top\">ppm</td><td>2018/01</td><td>0.34</td><td> </td>\n",
       "</tr><tr class=\"ALT\" style=\"color:Black;\">\n",
       "<td>2018/02</td><td>0.44</td><td> </td>\n",
       "</tr><tr style=\"color:Black;\">\n",
       "<td>2018/03</td><td>0.40</td><td> </td>\n",
       "</tr><tr class=\"ALT\" style=\"color:Black;\">\n",
       "<td>2018/04</td><td>0.38</td><td> </td>\n",
       "</tr><tr style=\"color:Black;\">\n",
       "<td>2018/05</td><td>0.34</td><td> </td>\n",
       "</tr><tr class=\"ALT\" style=\"color:Black;\">\n",
       "<td>2018/06</td><td>0.29</td><td> </td>\n",
       "</tr><tr style=\"color:Black;\">\n",
       "<td>2018/07</td><td>0.21</td><td> </td>\n",
       "</tr><tr class=\"ALT\" style=\"color:Black;\">\n",
       "<td>2018/08</td><td>0.30</td><td> </td>\n",
       "</tr><tr style=\"color:Black;\">\n",
       "<td>2018/09</td><td>0.26</td><td> </td>\n",
       "</tr><tr class=\"ALT\" style=\"color:Black;\">\n",
       "<td>2018/10</td><td>0.29</td><td> </td>\n",
       "</tr><tr style=\"color:Black;\">\n",
       "<td>2018/11</td><td>0.30</td><td> </td>\n",
       "</tr><tr class=\"ALT\" style=\"color:Black;\">\n",
       "<td>2018/12</td><td>0.35</td><td> </td>\n",
       "</tr><tr style=\"color:Black;\">\n",
       "<td class=\"no-alt\" rowspan=\"12\" style=\"white-space:nowrap;\" valign=\"top\">O3</td><td class=\"no-alt\" rowspan=\"12\" valign=\"top\">ppb</td><td>2018/01</td><td>33.40</td><td> </td>\n",
       "</tr><tr class=\"ALT\" style=\"color:Black;\">\n",
       "<td>2018/02</td><td>32.50</td><td> </td>\n",
       "</tr><tr style=\"color:Black;\">\n",
       "<td>2018/03</td><td>35</td><td> </td>\n",
       "</tr><tr class=\"ALT\" style=\"color:Black;\">\n",
       "<td>2018/04</td><td>38.40</td><td> </td>\n",
       "</tr><tr style=\"color:Black;\">\n",
       "<td>2018/05</td><td>31.60</td><td> </td>\n",
       "</tr><tr class=\"ALT\" style=\"color:Black;\">\n",
       "<td>2018/06</td><td>29.50</td><td> </td>\n",
       "</tr><tr style=\"color:Black;\">\n",
       "<td>2018/07</td><td>18.70</td><td> </td>\n",
       "</tr><tr class=\"ALT\" style=\"color:Black;\">\n",
       "<td>2018/08</td><td>26.40</td><td> </td>\n",
       "</tr><tr style=\"color:Black;\">\n",
       "<td>2018/09</td><td>29.10</td><td> </td>\n",
       "</tr><tr class=\"ALT\" style=\"color:Black;\">\n",
       "<td>2018/10</td><td>45.90</td><td> </td>\n",
       "</tr><tr style=\"color:Black;\">\n",
       "<td>2018/11</td><td>32.40</td><td> </td>\n",
       "</tr><tr class=\"ALT\" style=\"color:Black;\">\n",
       "<td>2018/12</td><td>30.70</td><td> </td>\n",
       "</tr><tr style=\"color:Black;\">\n",
       "<td class=\"no-alt\" rowspan=\"12\" style=\"white-space:nowrap;\" valign=\"top\">PM10</td><td class=\"no-alt\" rowspan=\"12\" valign=\"top\">μg/m3</td><td>2018/01</td><td>23</td><td> </td>\n",
       "</tr><tr class=\"ALT\" style=\"color:Black;\">\n",
       "<td>2018/02</td><td>41</td><td> </td>\n",
       "</tr><tr style=\"color:Black;\">\n",
       "<td>2018/03</td><td>39</td><td> </td>\n",
       "</tr><tr class=\"ALT\" style=\"color:Black;\">\n",
       "<td>2018/04</td><td>48</td><td> </td>\n",
       "</tr><tr style=\"color:Black;\">\n",
       "<td>2018/05</td><td>37</td><td> </td>\n",
       "</tr><tr class=\"ALT\" style=\"color:Black;\">\n",
       "<td>2018/06</td><td>26</td><td> </td>\n",
       "</tr><tr style=\"color:Black;\">\n",
       "<td>2018/07</td><td>24</td><td> </td>\n",
       "</tr><tr class=\"ALT\" style=\"color:Black;\">\n",
       "<td>2018/08</td><td>26</td><td> </td>\n",
       "</tr><tr style=\"color:Black;\">\n",
       "<td>2018/09</td><td>28</td><td> </td>\n",
       "</tr><tr class=\"ALT\" style=\"color:Black;\">\n",
       "<td>2018/10</td><td>33</td><td> </td>\n",
       "</tr><tr style=\"color:Black;\">\n",
       "<td>2018/11</td><td>25</td><td> </td>\n",
       "</tr><tr class=\"ALT\" style=\"color:Black;\">\n",
       "<td>2018/12</td><td>21</td><td> </td>\n",
       "</tr><tr style=\"color:Black;\">\n",
       "<td class=\"no-alt\" rowspan=\"12\" style=\"white-space:nowrap;\" valign=\"top\">NOx</td><td class=\"no-alt\" rowspan=\"12\" valign=\"top\">ppb</td><td>2018/01</td><td>14.17</td><td> </td>\n",
       "</tr><tr class=\"ALT\" style=\"color:Black;\">\n",
       "<td>2018/02</td><td>19.43</td><td> </td>\n",
       "</tr><tr style=\"color:Black;\">\n",
       "<td>2018/03</td><td>18.50</td><td> </td>\n",
       "</tr><tr class=\"ALT\" style=\"color:Black;\">\n",
       "<td>2018/04</td><td>15.24</td><td> </td>\n",
       "</tr><tr style=\"color:Black;\">\n",
       "<td>2018/05</td><td>15.20</td><td> </td>\n",
       "</tr><tr class=\"ALT\" style=\"color:Black;\">\n",
       "<td>2018/06</td><td>13.79</td><td> </td>\n",
       "</tr><tr style=\"color:Black;\">\n",
       "<td>2018/07</td><td>11.60</td><td> </td>\n",
       "</tr><tr class=\"ALT\" style=\"color:Black;\">\n",
       "<td>2018/08</td><td>14.75</td><td> </td>\n",
       "</tr><tr style=\"color:Black;\">\n",
       "<td>2018/09</td><td>12.40</td><td> </td>\n",
       "</tr><tr class=\"ALT\" style=\"color:Black;\">\n",
       "<td>2018/10</td><td>12.45</td><td> </td>\n",
       "</tr><tr style=\"color:Black;\">\n",
       "<td>2018/11</td><td>13.41</td><td> </td>\n",
       "</tr><tr class=\"ALT\" style=\"color:Black;\">\n",
       "<td>2018/12</td><td>14.56</td><td> </td>\n",
       "</tr><tr style=\"color:Black;\">\n",
       "<td class=\"no-alt\" rowspan=\"12\" style=\"white-space:nowrap;\" valign=\"top\">NO</td><td class=\"no-alt\" rowspan=\"12\" valign=\"top\">ppb</td><td>2018/01</td><td>3.41</td><td> </td>\n",
       "</tr><tr class=\"ALT\" style=\"color:Black;\">\n",
       "<td>2018/02</td><td>4.48</td><td> </td>\n",
       "</tr><tr style=\"color:Black;\">\n",
       "<td>2018/03</td><td>4.93</td><td> </td>\n",
       "</tr><tr class=\"ALT\" style=\"color:Black;\">\n",
       "<td>2018/04</td><td>2.60</td><td> </td>\n",
       "</tr><tr style=\"color:Black;\">\n",
       "<td>2018/05</td><td>2.26</td><td> </td>\n",
       "</tr><tr class=\"ALT\" style=\"color:Black;\">\n",
       "<td>2018/06</td><td>2.41</td><td> </td>\n",
       "</tr><tr style=\"color:Black;\">\n",
       "<td>2018/07</td><td>2.68</td><td> </td>\n",
       "</tr><tr class=\"ALT\" style=\"color:Black;\">\n",
       "<td>2018/08</td><td>2.68</td><td> </td>\n",
       "</tr><tr style=\"color:Black;\">\n",
       "<td>2018/09</td><td>2.41</td><td> </td>\n",
       "</tr><tr class=\"ALT\" style=\"color:Black;\">\n",
       "<td>2018/10</td><td>2.13</td><td> </td>\n",
       "</tr><tr style=\"color:Black;\">\n",
       "<td>2018/11</td><td>2.71</td><td> </td>\n",
       "</tr><tr class=\"ALT\" style=\"color:Black;\">\n",
       "<td>2018/12</td><td>3.42</td><td> </td>\n",
       "</tr><tr style=\"color:Black;\">\n",
       "<td class=\"no-alt\" rowspan=\"12\" style=\"white-space:nowrap;\" valign=\"top\">NO2</td><td class=\"no-alt\" rowspan=\"12\" valign=\"top\">ppb</td><td>2018/01</td><td>10.77</td><td> </td>\n",
       "</tr><tr class=\"ALT\" style=\"color:Black;\">\n",
       "<td>2018/02</td><td>14.95</td><td> </td>\n",
       "</tr><tr style=\"color:Black;\">\n",
       "<td>2018/03</td><td>13.56</td><td> </td>\n",
       "</tr><tr class=\"ALT\" style=\"color:Black;\">\n",
       "<td>2018/04</td><td>12.64</td><td> </td>\n",
       "</tr><tr style=\"color:Black;\">\n",
       "<td>2018/05</td><td>12.94</td><td> </td>\n",
       "</tr><tr class=\"ALT\" style=\"color:Black;\">\n",
       "<td>2018/06</td><td>11.38</td><td> </td>\n",
       "</tr><tr style=\"color:Black;\">\n",
       "<td>2018/07</td><td>8.92</td><td> </td>\n",
       "</tr><tr class=\"ALT\" style=\"color:Black;\">\n",
       "<td>2018/08</td><td>12.08</td><td> </td>\n",
       "</tr><tr style=\"color:Black;\">\n",
       "<td>2018/09</td><td>10</td><td> </td>\n",
       "</tr><tr class=\"ALT\" style=\"color:Black;\">\n",
       "<td>2018/10</td><td>10.33</td><td> </td>\n",
       "</tr><tr style=\"color:Black;\">\n",
       "<td>2018/11</td><td>10.71</td><td> </td>\n",
       "</tr><tr class=\"ALT\" style=\"color:Black;\">\n",
       "<td>2018/12</td><td>11.15</td><td> </td>\n",
       "</tr><tr style=\"color:Black;\">\n",
       "<td class=\"no-alt\" rowspan=\"1\" style=\"white-space:nowrap;\" valign=\"top\">THC</td><td class=\"no-alt\" rowspan=\"1\" valign=\"top\">ppm</td><td> </td><td> </td><td>無此測項</td>\n",
       "</tr><tr class=\"ALT\" style=\"color:Black;\">\n",
       "<td class=\"no-alt\" rowspan=\"1\" style=\"white-space:nowrap;\" valign=\"top\">NMHC</td><td class=\"no-alt\" rowspan=\"1\" valign=\"top\">ppm</td><td> </td><td> </td><td>無此測項</td>\n",
       "</tr><tr style=\"color:Black;\">\n",
       "<td style=\"white-space:nowrap;\">CH4</td><td>ppm</td><td> </td><td> </td><td>無此測項</td>\n",
       "</tr>\n",
       "</tbody></table>"
      ]
     },
     "execution_count": 6,
     "metadata": {},
     "output_type": "execute_result"
    }
   ],
   "source": [
    "table"
   ]
  },
  {
   "cell_type": "code",
   "execution_count": 22,
   "metadata": {},
   "outputs": [],
   "source": [
    "values=[]\n",
    "i=0\n",
    "for tr in table.find_all('tr'):\n",
    "    if i==0:\n",
    "        i=1\n",
    "        continue\n",
    "    elif tr.findAll('td')[0].getText()=='SO2':\n",
    "        if i%8==1:\n",
    "            val=tr.findAll('td')[3].getText()\n",
    "            i+=1\n",
    "    elif i>8:\n",
    "        break\n",
    "    else:\n",
    "        val=tr.findAll('td')[1].getText()\n",
    "        i+=1\n",
    "    values.append(val)"
   ]
  },
  {
   "cell_type": "code",
   "execution_count": 23,
   "metadata": {},
   "outputs": [
    {
     "data": {
      "text/plain": [
       "['1.80', '1.90', '2.20', '2.30', '3.10', '2.70', '2.20', '2.40', '2.10']"
      ]
     },
     "execution_count": 23,
     "metadata": {},
     "output_type": "execute_result"
    }
   ],
   "source": [
    "values"
   ]
  },
  {
   "cell_type": "code",
   "execution_count": 19,
   "metadata": {},
   "outputs": [
    {
     "data": {
      "text/plain": [
       "[<td>2018/02</td>, <td>1.90</td>, <td> </td>]"
      ]
     },
     "execution_count": 19,
     "metadata": {},
     "output_type": "execute_result"
    }
   ],
   "source": [
    "table.find_all('tr')[2].findAll('td')"
   ]
  },
  {
   "cell_type": "code",
   "execution_count": 16,
   "metadata": {},
   "outputs": [
    {
     "data": {
      "text/plain": [
       "['__bool__',\n",
       " '__call__',\n",
       " '__class__',\n",
       " '__contains__',\n",
       " '__copy__',\n",
       " '__delattr__',\n",
       " '__delitem__',\n",
       " '__dict__',\n",
       " '__dir__',\n",
       " '__doc__',\n",
       " '__eq__',\n",
       " '__format__',\n",
       " '__ge__',\n",
       " '__getattr__',\n",
       " '__getattribute__',\n",
       " '__getitem__',\n",
       " '__gt__',\n",
       " '__hash__',\n",
       " '__init__',\n",
       " '__init_subclass__',\n",
       " '__iter__',\n",
       " '__le__',\n",
       " '__len__',\n",
       " '__lt__',\n",
       " '__module__',\n",
       " '__ne__',\n",
       " '__new__',\n",
       " '__reduce__',\n",
       " '__reduce_ex__',\n",
       " '__repr__',\n",
       " '__setattr__',\n",
       " '__setitem__',\n",
       " '__sizeof__',\n",
       " '__str__',\n",
       " '__subclasshook__',\n",
       " '__unicode__',\n",
       " '__weakref__',\n",
       " '_all_strings',\n",
       " '_find_all',\n",
       " '_find_one',\n",
       " '_is_xml',\n",
       " '_lastRecursiveChild',\n",
       " '_last_descendant',\n",
       " '_should_pretty_print',\n",
       " 'append',\n",
       " 'attrs',\n",
       " 'can_be_empty_element',\n",
       " 'cdata_list_attributes',\n",
       " 'childGenerator',\n",
       " 'children',\n",
       " 'clear',\n",
       " 'contents',\n",
       " 'decode',\n",
       " 'decode_contents',\n",
       " 'decompose',\n",
       " 'descendants',\n",
       " 'encode',\n",
       " 'encode_contents',\n",
       " 'extend',\n",
       " 'extract',\n",
       " 'fetchNextSiblings',\n",
       " 'fetchParents',\n",
       " 'fetchPrevious',\n",
       " 'fetchPreviousSiblings',\n",
       " 'find',\n",
       " 'findAll',\n",
       " 'findAllNext',\n",
       " 'findAllPrevious',\n",
       " 'findChild',\n",
       " 'findChildren',\n",
       " 'findNext',\n",
       " 'findNextSibling',\n",
       " 'findNextSiblings',\n",
       " 'findParent',\n",
       " 'findParents',\n",
       " 'findPrevious',\n",
       " 'findPreviousSibling',\n",
       " 'findPreviousSiblings',\n",
       " 'find_all',\n",
       " 'find_all_next',\n",
       " 'find_all_previous',\n",
       " 'find_next',\n",
       " 'find_next_sibling',\n",
       " 'find_next_siblings',\n",
       " 'find_parent',\n",
       " 'find_parents',\n",
       " 'find_previous',\n",
       " 'find_previous_sibling',\n",
       " 'find_previous_siblings',\n",
       " 'format_string',\n",
       " 'formatter_for_name',\n",
       " 'get',\n",
       " 'getText',\n",
       " 'get_attribute_list',\n",
       " 'get_text',\n",
       " 'has_attr',\n",
       " 'has_key',\n",
       " 'hidden',\n",
       " 'index',\n",
       " 'insert',\n",
       " 'insert_after',\n",
       " 'insert_before',\n",
       " 'isSelfClosing',\n",
       " 'is_empty_element',\n",
       " 'known_xml',\n",
       " 'name',\n",
       " 'namespace',\n",
       " 'next',\n",
       " 'nextGenerator',\n",
       " 'nextSibling',\n",
       " 'nextSiblingGenerator',\n",
       " 'next_element',\n",
       " 'next_elements',\n",
       " 'next_sibling',\n",
       " 'next_siblings',\n",
       " 'parent',\n",
       " 'parentGenerator',\n",
       " 'parents',\n",
       " 'parserClass',\n",
       " 'parser_class',\n",
       " 'prefix',\n",
       " 'preserve_whitespace_tags',\n",
       " 'prettify',\n",
       " 'previous',\n",
       " 'previousGenerator',\n",
       " 'previousSibling',\n",
       " 'previousSiblingGenerator',\n",
       " 'previous_element',\n",
       " 'previous_elements',\n",
       " 'previous_sibling',\n",
       " 'previous_siblings',\n",
       " 'recursiveChildGenerator',\n",
       " 'renderContents',\n",
       " 'replaceWith',\n",
       " 'replaceWithChildren',\n",
       " 'replace_with',\n",
       " 'replace_with_children',\n",
       " 'select',\n",
       " 'select_one',\n",
       " 'setup',\n",
       " 'smooth',\n",
       " 'sourceline',\n",
       " 'sourcepos',\n",
       " 'string',\n",
       " 'strings',\n",
       " 'stripped_strings',\n",
       " 'text',\n",
       " 'unwrap',\n",
       " 'wrap']"
      ]
     },
     "execution_count": 16,
     "metadata": {},
     "output_type": "execute_result"
    }
   ],
   "source": [
    "dir(a)"
   ]
  },
  {
   "cell_type": "code",
   "execution_count": 24,
   "metadata": {},
   "outputs": [
    {
     "ename": "AttributeError",
     "evalue": "'NoneType' object has no attribute 'next_sibling'",
     "output_type": "error",
     "traceback": [
      "\u001b[1;31m---------------------------------------------------------------------------\u001b[0m",
      "\u001b[1;31mAttributeError\u001b[0m                            Traceback (most recent call last)",
      "\u001b[1;32m<ipython-input-24-2817a15b6bb2>\u001b[0m in \u001b[0;36m<module>\u001b[1;34m\u001b[0m\n\u001b[1;32m----> 1\u001b[1;33m \u001b[0ma\u001b[0m\u001b[1;33m.\u001b[0m\u001b[0mnext_sibling\u001b[0m\u001b[1;33m.\u001b[0m\u001b[0mnext_sibling\u001b[0m\u001b[1;33m.\u001b[0m\u001b[0mnext_sibling\u001b[0m\u001b[1;33m.\u001b[0m\u001b[0mnext_sibling\u001b[0m\u001b[1;33m.\u001b[0m\u001b[0mnext_sibling\u001b[0m\u001b[1;33m.\u001b[0m\u001b[0mnext_sibling\u001b[0m\u001b[1;33m.\u001b[0m\u001b[0mnext_sibling\u001b[0m\u001b[1;33m\u001b[0m\u001b[1;33m\u001b[0m\u001b[0m\n\u001b[0m",
      "\u001b[1;31mAttributeError\u001b[0m: 'NoneType' object has no attribute 'next_sibling'"
     ]
    }
   ],
   "source": [
    "a.next_sibling.next_sibling.next_sibling.next_sibling.next_sibling.next_sibling.next_sibling"
   ]
  },
  {
   "cell_type": "code",
   "execution_count": null,
   "metadata": {},
   "outputs": [],
   "source": []
  }
 ],
 "metadata": {
  "kernelspec": {
   "display_name": "Python 3",
   "language": "python",
   "name": "python3"
  },
  "language_info": {
   "codemirror_mode": {
    "name": "ipython",
    "version": 3
   },
   "file_extension": ".py",
   "mimetype": "text/x-python",
   "name": "python",
   "nbconvert_exporter": "python",
   "pygments_lexer": "ipython3",
   "version": "3.7.6"
  }
 },
 "nbformat": 4,
 "nbformat_minor": 2
}
