{
 "cells": [
  {
   "cell_type": "markdown",
   "metadata": {},
   "source": [
    "# Python 下載XML檔案與解析\n",
    "\n",
    "\n",
    "* 了解 xml 檔案格式與內容\n",
    "* 能夠利用套件存取 xml 格式的檔案\n"
   ]
  },
  {
   "cell_type": "markdown",
   "metadata": {},
   "source": [
    "## 作業目標\n",
    "\n",
    "* 比較一下範例檔案中的「File I/O」與「xmltodict」讀出來的內容有什麼差異\n",
    "\n",
    "* 根據範例檔案的結果：\n",
    "    1. 請問高雄市有多少地區有溫度資料？\n",
    "    2. 請取出每一個地區所記錄的第一個時間點跟溫度\n",
    "    3. 請取出第一個地區所記錄的每一個時間點跟溫度"
   ]
  },
  {
   "cell_type": "markdown",
   "metadata": {},
   "source": [
    "### 比較一下範例檔案中的「File I/O」與「xmltodict」讀出來的內容有什麼差異\n"
   ]
  },
  {
   "cell_type": "markdown",
   "metadata": {},
   "source": [
    "File I/O: Just print out raw XML content.\n",
    "\n",
    "xmltodict: Converted into Python dict structure"
   ]
  },
  {
   "cell_type": "markdown",
   "metadata": {},
   "source": [
    "### 根據範例檔案的結果：\n",
    "\n",
    "1. 請問高雄市有多少地區有溫度資料？\n",
    "2. 請取出每一個地區所記錄的第一個時間點跟溫度\n",
    "3. 請取出第一個地區所記錄的每一個時間點跟溫度"
   ]
  },
  {
   "cell_type": "code",
   "execution_count": 1,
   "metadata": {},
   "outputs": [
    {
     "name": "stdout",
     "output_type": "stream",
     "text": [
      "Number of district: 38\n"
     ]
    }
   ],
   "source": [
    "# 1. 請問高雄市有多少地區有溫度資料？\n",
    "\n",
    "import xmltodict\n",
    "with open(\"./data/64_72hr_CH.xml\", \"r\", encoding = 'utf8') as fh:\n",
    "    xml = fh.read()\n",
    "\n",
    "d = dict(xmltodict.parse(xml))\n",
    "print('Number of district: '+str(len(d['cwbopendata']['dataset']['locations']['location'])))"
   ]
  },
  {
   "cell_type": "code",
   "execution_count": 2,
   "metadata": {},
   "outputs": [
    {
     "name": "stdout",
     "output_type": "stream",
     "text": [
      "鹽埕區\tTime:2020-03-01T12:00:00+08:00\tTemp(C):28\n",
      "鼓山區\tTime:2020-03-01T12:00:00+08:00\tTemp(C):28\n",
      "左營區\tTime:2020-03-01T12:00:00+08:00\tTemp(C):28\n",
      "楠梓區\tTime:2020-03-01T12:00:00+08:00\tTemp(C):29\n",
      "三民區\tTime:2020-03-01T12:00:00+08:00\tTemp(C):28\n",
      "新興區\tTime:2020-03-01T12:00:00+08:00\tTemp(C):28\n",
      "前金區\tTime:2020-03-01T12:00:00+08:00\tTemp(C):28\n",
      "苓雅區\tTime:2020-03-01T12:00:00+08:00\tTemp(C):28\n",
      "前鎮區\tTime:2020-03-01T12:00:00+08:00\tTemp(C):29\n",
      "旗津區\tTime:2020-03-01T12:00:00+08:00\tTemp(C):28\n",
      "小港區\tTime:2020-03-01T12:00:00+08:00\tTemp(C):29\n",
      "鳳山區\tTime:2020-03-01T12:00:00+08:00\tTemp(C):29\n",
      "林園區\tTime:2020-03-01T12:00:00+08:00\tTemp(C):29\n",
      "大寮區\tTime:2020-03-01T12:00:00+08:00\tTemp(C):29\n",
      "大樹區\tTime:2020-03-01T12:00:00+08:00\tTemp(C):30\n",
      "大社區\tTime:2020-03-01T12:00:00+08:00\tTemp(C):30\n",
      "仁武區\tTime:2020-03-01T12:00:00+08:00\tTemp(C):29\n",
      "鳥松區\tTime:2020-03-01T12:00:00+08:00\tTemp(C):30\n",
      "岡山區\tTime:2020-03-01T12:00:00+08:00\tTemp(C):29\n",
      "橋頭區\tTime:2020-03-01T12:00:00+08:00\tTemp(C):29\n",
      "燕巢區\tTime:2020-03-01T12:00:00+08:00\tTemp(C):29\n",
      "田寮區\tTime:2020-03-01T12:00:00+08:00\tTemp(C):29\n",
      "阿蓮區\tTime:2020-03-01T12:00:00+08:00\tTemp(C):29\n",
      "路竹區\tTime:2020-03-01T12:00:00+08:00\tTemp(C):29\n",
      "湖內區\tTime:2020-03-01T12:00:00+08:00\tTemp(C):28\n",
      "茄萣區\tTime:2020-03-01T12:00:00+08:00\tTemp(C):28\n",
      "永安區\tTime:2020-03-01T12:00:00+08:00\tTemp(C):28\n",
      "彌陀區\tTime:2020-03-01T12:00:00+08:00\tTemp(C):28\n",
      "梓官區\tTime:2020-03-01T12:00:00+08:00\tTemp(C):28\n",
      "旗山區\tTime:2020-03-01T12:00:00+08:00\tTemp(C):29\n",
      "美濃區\tTime:2020-03-01T12:00:00+08:00\tTemp(C):30\n",
      "六龜區\tTime:2020-03-01T12:00:00+08:00\tTemp(C):29\n",
      "甲仙區\tTime:2020-03-01T12:00:00+08:00\tTemp(C):31\n",
      "杉林區\tTime:2020-03-01T12:00:00+08:00\tTemp(C):30\n",
      "內門區\tTime:2020-03-01T12:00:00+08:00\tTemp(C):30\n",
      "茂林區\tTime:2020-03-01T12:00:00+08:00\tTemp(C):30\n",
      "桃源區\tTime:2020-03-01T12:00:00+08:00\tTemp(C):28\n",
      "那瑪夏區\tTime:2020-03-01T12:00:00+08:00\tTemp(C):26\n"
     ]
    }
   ],
   "source": [
    "# 2. 請取出每一個地區所記錄的第一個時間點跟溫度\n",
    "\n",
    "for i in range(len(d['cwbopendata']['dataset']['locations']['location'])):\n",
    "    print(str(d['cwbopendata']['dataset']['locations']['location'][i]['locationName'])+\n",
    "    '\\tTime:'+str(d['cwbopendata']['dataset']['locations']['location'][i]['weatherElement'][0]['time'][0]['dataTime'])+\n",
    "    '\\tTemp(C):'+str(d['cwbopendata']['dataset']['locations']['location'][i]['weatherElement'][0]['time'][0]['elementValue']['value']))"
   ]
  },
  {
   "cell_type": "code",
   "execution_count": 3,
   "metadata": {},
   "outputs": [
    {
     "name": "stdout",
     "output_type": "stream",
     "text": [
      "鹽埕區\n",
      "Time:2020-03-01T12:00:00+08:00\tTemp(C):28\n",
      "Time:2020-03-01T15:00:00+08:00\tTemp(C):28\n",
      "Time:2020-03-01T18:00:00+08:00\tTemp(C):26\n",
      "Time:2020-03-01T21:00:00+08:00\tTemp(C):24\n",
      "Time:2020-03-02T00:00:00+08:00\tTemp(C):23\n",
      "Time:2020-03-02T03:00:00+08:00\tTemp(C):22\n",
      "Time:2020-03-02T06:00:00+08:00\tTemp(C):21\n",
      "Time:2020-03-02T09:00:00+08:00\tTemp(C):23\n",
      "Time:2020-03-02T12:00:00+08:00\tTemp(C):26\n",
      "Time:2020-03-02T15:00:00+08:00\tTemp(C):27\n",
      "Time:2020-03-02T18:00:00+08:00\tTemp(C):25\n"
     ]
    }
   ],
   "source": [
    "# 3. 請取出第一個地區所記錄的每一個時間點跟溫度\n",
    "print(str(d['cwbopendata']['dataset']['locations']['location'][0]['locationName']))\n",
    "for i in range(len(d['cwbopendata']['dataset']['locations']['location'][0]['weatherElement'])):\n",
    "    print('Time:'+str(d['cwbopendata']['dataset']['locations']['location'][0]['weatherElement'][0]['time'][i]['dataTime'])+\n",
    "    '\\tTemp(C):'+str(d['cwbopendata']['dataset']['locations']['location'][0]['weatherElement'][0]['time'][i]['elementValue']['value']))"
   ]
  }
 ],
 "metadata": {
  "kernelspec": {
   "display_name": "Python 3",
   "language": "python",
   "name": "python3"
  },
  "language_info": {
   "codemirror_mode": {
    "name": "ipython",
    "version": 3
   },
   "file_extension": ".py",
   "mimetype": "text/x-python",
   "name": "python",
   "nbconvert_exporter": "python",
   "pygments_lexer": "ipython3",
   "version": "3.7.6"
  }
 },
 "nbformat": 4,
 "nbformat_minor": 2
}
