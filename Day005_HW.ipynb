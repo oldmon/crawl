{
 "cells": [
  {
   "cell_type": "markdown",
   "metadata": {},
   "source": [
    "# API 資料串接 - 以 Dcard API 實作範例\n",
    "\n",
    "* 了解 Dcard API 使用方式與回傳內容\n",
    "* 撰寫程式存取 API 且解析 JSON 格式資料\n"
   ]
  },
  {
   "cell_type": "markdown",
   "metadata": {},
   "source": [
    "## 作業目標\n",
    "\n",
    "* 請利用 API: https://www.dcard.tw/_api/forums/pet/posts?popular=true 回答下列問題：\n",
    "\n",
    "1. 這個 API 一次會回傳幾筆資料？每一筆資料包含哪些欄位？\n",
    "2. 取出每一筆資料的「標題」、「貼文時間」、「留言人數」、「按讚人數」\n",
    "3. 計算熱門/非熱門文章的「平均留言人數」與「平均按讚人數」"
   ]
  },
  {
   "cell_type": "code",
   "execution_count": 1,
   "metadata": {},
   "outputs": [
    {
     "name": "stdout",
     "output_type": "stream",
     "text": [
      "Number of data: 30\n",
      "Those fields are dict_keys(['id', 'title', 'excerpt', 'anonymousSchool', 'anonymousDepartment', 'pinned', 'forumId', 'replyId', 'createdAt', 'updatedAt', 'commentCount', 'likeCount', 'withNickname', 'tags', 'topics', 'meta', 'forumName', 'forumAlias', 'gender', 'school', 'department', 'replyTitle', 'mediaMeta', 'reactions', 'hidden', 'customStyle', 'isSuspiciousAccount', 'layout', 'withImages', 'withVideos', 'media', 'reportReasonText', 'postAvatar'])\n"
     ]
    }
   ],
   "source": [
    "# 1. 這個 API 一次會回傳幾筆資料？每一筆資料包含哪些欄位？\n",
    "\n",
    "import requests, json\n",
    "r = requests.get('https://www.dcard.tw/_api/forums/pet/posts?popular=true')\n",
    "data = json.loads(r.text)\n",
    "print('Number of data: '+str(len(data)))\n",
    "print('Those fields are '+str(data[0].keys()))"
   ]
  },
  {
   "cell_type": "code",
   "execution_count": 2,
   "metadata": {},
   "outputs": [
    {
     "name": "stdout",
     "output_type": "stream",
     "text": [
      "標題: 是多麼喜歡\t留言人數: 5\t按讚人數: 200\n",
      "標題: 曬貓🥰路上救來的小賓士成長過程🤣\t留言人數: 5\t按讚人數: 146\n",
      "標題: 家有兩隻貓(⌯͒⁍̩̩᷄ ɪ ⁍̩̩᷄ฅ͒)\t留言人數: 5\t按讚人數: 83\n",
      "標題: 我只是想打個哈欠🥱\t留言人數: 7\t按讚人數: 64\n",
      "標題: 純粹想曬曬我家柯基🐶\t留言人數: 3\t按讚人數: 46\n",
      "標題: 問 狗狗品種\t留言人數: 11\t按讚人數: 33\n",
      "標題: 最chill的邊境\t留言人數: 5\t按讚人數: 30\n",
      "標題: 這位同學！請交出你的貓！\t留言人數: 3\t按讚人數: 24\n",
      "標題: 小鳥倒掉\t留言人數: 1\t按讚人數: 23\n",
      "標題: 長榮同學！交出你的鼠鼠！\t留言人數: 7\t按讚人數: 19\n",
      "標題: 只是想給大家看看芋仔\t留言人數: 0\t按讚人數: 15\n",
      "標題: 朋友打算棄養\t留言人數: 13\t按讚人數: 14\n",
      "標題: 蛇板？（有關掉預覽\t留言人數: 4\t按讚人數: 13\n",
      "標題: 賓士貓送養 已結紮&預防針\t留言人數: 3\t按讚人數: 11\n",
      "標題: 限時的貓咪\t留言人數: 2\t按讚人數: 10\n",
      "標題: 臘腸PK貓咪 壓在地上打！\t留言人數: 0\t按讚人數: 10\n",
      "標題: 曬一下新來的小可愛😊\t留言人數: 2\t按讚人數: 8\n",
      "標題: 寵物電繪🐶🐱（免費 3/01中午止\t留言人數: 24\t按讚人數: 8\n",
      "標題: 文鳥養成\t留言人數: 0\t按讚人數: 8\n",
      "標題: 史上最讚的狗狗\t留言人數: 0\t按讚人數: 8\n",
      "標題: #圖#影小柴→大柴\t留言人數: 0\t按讚人數: 8\n",
      "標題: 曬照片٩(｡・ω・｡)﻿و\t留言人數: 0\t按讚人數: 7\n",
      "標題: 問 貓咪突然親近的原因\t留言人數: 1\t按讚人數: 6\n",
      "標題: 領養第三天\t留言人數: 4\t按讚人數: 6\n",
      "標題: 貓咪3擇1\t留言人數: 14\t按讚人數: 6\n",
      "標題: 成為馴獸師！\t留言人數: 3\t按讚人數: 6\n",
      "標題: 豹紋守宮中的巨人\t留言人數: 5\t按讚人數: 6\n",
      "標題: #法鬥#狗 如何幫你家狗打扮呢？\t留言人數: 0\t按讚人數: 4\n",
      "標題: 有誰的臉比我更G8?\t留言人數: 8\t按讚人數: 4\n",
      "標題: 送養貓兄弟🐱\t留言人數: 1\t按讚人數: 4\n"
     ]
    }
   ],
   "source": [
    "# 2. 取出每一筆資料的「標題」、「標題」、「留言人數」、「按讚人數」\n",
    "\n",
    "for d in data:\n",
    "    print('標題: '+str(d['title'])+'\\t留言人數: '+str(d['commentCount'])+'\\t按讚人數: '+str(d['likeCount']))"
   ]
  },
  {
   "cell_type": "code",
   "execution_count": 3,
   "metadata": {},
   "outputs": [
    {
     "name": "stdout",
     "output_type": "stream",
     "text": [
      "平均留言人數: 4.533333333333333 平均按讚人數: 27.666666666666668\n"
     ]
    }
   ],
   "source": [
    "# 3. 計算熱門/非熱門文章的「平均留言人數」與「平均按讚人數」\n",
    "\n",
    "commentC=likeC=0\n",
    "for d in data:\n",
    "    commentC+=d['commentCount']\n",
    "    likeC+=d['likeCount']\n",
    "\n",
    "print('平均留言人數: '+str(commentC/30)+' 平均按讚人數: '+str(likeC/30))"
   ]
  }
 ],
 "metadata": {
  "kernelspec": {
   "display_name": "Python 3",
   "language": "python",
   "name": "python3"
  },
  "language_info": {
   "codemirror_mode": {
    "name": "ipython",
    "version": 3
   },
   "file_extension": ".py",
   "mimetype": "text/x-python",
   "name": "python",
   "nbconvert_exporter": "python",
   "pygments_lexer": "ipython3",
   "version": "3.7.6"
  }
 },
 "nbformat": 4,
 "nbformat_minor": 2
}
